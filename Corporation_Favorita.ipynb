{
 "cells": [
  {
   "cell_type": "markdown",
   "id": "4d90784b",
   "metadata": {},
   "source": [
    "### Building A Machine Learning Model To Determne The Unit Sales Of Each Product In Corporation Favorita Stores ###"
   ]
  },
  {
   "cell_type": "markdown",
   "id": "1781704c",
   "metadata": {},
   "source": [
    "# Business Understanding\n",
    "\n",
    "***Essence of the case:***\n",
    "    \n",
    ">Build a predictive model that lets us know the unit sales of each product the Corporation Favorita franchise makes in its different stores across columbia."
   ]
  },
  {
   "cell_type": "markdown",
   "id": "de8fb4e6",
   "metadata": {},
   "source": [
    "# Data Understanding \n",
    "\n",
    "***What Analysis can we do?***\n",
    "\n",
    ">Store transactions per date\n",
    "\n",
    ">store number with the most product sales (top 10)\n",
    "\n",
    ">Product family with the most requests or sales (top 10)\n",
    "\n",
    ">Mostpromoted product family (either top 5 or 10)\n",
    "\n",
    ">top stores with the most sales based on promotions\n",
    "\n",
    ">top products recording the most sales based on promotions\n",
    "\n",
    ">highest transacting stores (top 10)\n",
    "\n",
    ">time frames with the highest transactions\n",
    "\n",
    ">cities and states with the highest transactions\n",
    "\n",
    ">cities and states with the highest promotions\n",
    "\n",
    ">cities and states with the highest sales\n",
    "\n",
    ">shop clusters with the highest promotion events\n",
    "\n",
    ">shop custers with the highest transactions\n",
    "\n",
    ">shop clusters with the highest sales\n",
    "\n",
    ">does oil price and holiday even cause an increase in the pertronage of a commodity based on store location, cluster and region\n",
    ">\n",
    "does oil price and holiday affect the rate of transaction\n"
   ]
  },
  {
   "cell_type": "markdown",
   "id": "0885cb12",
   "metadata": {},
   "source": [
    "***Hypothesis:***\n",
    "1.  Promotions positively impacts the sales of each cluster of stores\n",
    "2.  Oil prices negatively impacts sales\n",
    "3.  Holiday periods positively impact sales\n",
    "4.  Regardless of store certain product families always outsell others\n",
    "5.  Oil price negatively affects the rate of transaction\n",
    "6.  Holidays and promotions drive transaction rates positvely\n",
    "7.  During specific time periods, certain stores record high transactions and sales\n",
    "8.  Depending on location, certain stores are outselling other stores\n",
    "\n",
    "\n",
    "***Questions:***\n",
    "1.  Does promotion result in more sales in each cluster of store?\n",
    "2.  Does Oil price negatively affect the sales in each cluster of store?\n",
    "3.  what are the top 10 most pertronized product families being offered by favorita?\n",
    "4.  Does oil price result in low transaction rates in each of the cluster of stores?\n",
    "5.  Collectively, does holidays and promotions result in high transaction rates in each cluster of store?\n",
    "6.  Which dates have the lowest and highest sales for each year?\n",
    "7.  Does location result in certain cluster of stores putselling others?\n",
    "8.  Are certain groups of stores (cluster, city, state, type) selling more products?\n",
    "9.  Did the earthquake impact sales?\n",
    "10. Is the train dataset complete (has all the required dates)?\n",
    "11. Are sales affected by promotions, oil prices and holidays?\n",
    "12. What analysis can we get from the date and its extractable features?\n",
    "13. What is the difference between RMSLE, RMSE, MSE (or why is the MAE greater than all of them?)"
   ]
  },
  {
   "cell_type": "markdown",
   "id": "bc5cca50",
   "metadata": {},
   "source": [
    "# Data Preparation"
   ]
  },
  {
   "cell_type": "markdown",
   "id": "15dc1e86",
   "metadata": {},
   "source": [
    "***Steps***\n",
    "1. Load all data files into the notebook\n",
    "2. Examine their features\n",
    "3. Identify the sections of the dataframes with missing and null values, and those with wrong data formats.\n",
    "4. Work on the missing and null values, and wrong data formats\n",
    "5. Derive final dataframes for data processing and visulization.\n",
    "\n",
    "# Steps\n",
    "\n",
    "1. Load the train data set CSV files into the notebook\n",
    "2. Go through all the columns of the train data to verify if they are complete and in their right formats\n",
    "3. if not, conduct the necessary edits/cleaning to ensure a uniform dataframe\n",
    "4. Afterwards, I am to load the supplementary csv files which i will need for my analysis, and clean them\n",
    "5. DO the necessary combinations and proceed to visualization to answer the set questions."
   ]
  },
  {
   "cell_type": "markdown",
   "id": "70ec5d33",
   "metadata": {},
   "source": [
    "***Import the libraries to be used***"
   ]
  },
  {
   "cell_type": "code",
   "execution_count": 1,
   "id": "823974e0",
   "metadata": {},
   "outputs": [],
   "source": [
    "#Import Libraries\n",
    "from itertools import product\n",
    "import numpy as np\n",
    "import pandas as pd\n",
    "import matplotlib.pyplot as plt"
   ]
  },
  {
   "cell_type": "markdown",
   "id": "1746fe44",
   "metadata": {},
   "source": [
    "***Import the datasets here*** "
   ]
  },
  {
   "cell_type": "code",
   "execution_count": 13,
   "id": "35323b2e",
   "metadata": {},
   "outputs": [],
   "source": [
    "# Load the training dataset here\n",
    "\n",
    "df_train = pd.read_csv(\"/Users/Ebenezer Edusei/Edusei Python Studies/ML Study/post-bap-LP2-main/train.csv\")\n",
    "df_test = pd.read_csv(\"/Users/Ebenezer Edusei/Edusei Python Studies/ML Study/post-bap-LP2-main/test.csv\")\n",
    "Oil = pd.read_csv(\"/Users/Ebenezer Edusei/Edusei Python Studies/ML Study/post-bap-LP2-main/oil.csv\")\n",
    "holidays = pd.read_csv(\"/Users/Ebenezer Edusei/Edusei Python Studies/ML Study/post-bap-LP2-main/holidays_events.csv\")\n",
    "transactions = pd.read_csv(\"/Users/Ebenezer Edusei/Edusei Python Studies/ML Study/post-bap-LP2-main/transactions.csv\")\n",
    "stores = pd.read_csv(r\"C:\\Users\\Ebenezer Edusei\\Edusei Python Studies\\ML Study\\post-bap-LP2-main\\stores.csv\")\n"
   ]
  },
  {
   "cell_type": "markdown",
   "id": "b32273e0",
   "metadata": {},
   "source": [
    "# Step 2: Go through all the columns of the train data to verify if they are complete and in their right formats"
   ]
  },
  {
   "cell_type": "markdown",
   "id": "b36af6e5",
   "metadata": {},
   "source": [
    "***Exploring the Train Data***"
   ]
  },
  {
   "cell_type": "code",
   "execution_count": 26,
   "id": "3b006882",
   "metadata": {
    "scrolled": true
   },
   "outputs": [
    {
     "name": "stdout",
     "output_type": "stream",
     "text": [
      "<class 'pandas.core.frame.DataFrame'>\n",
      "RangeIndex: 3000888 entries, 0 to 3000887\n",
      "Data columns (total 6 columns):\n",
      " #   Column       Dtype\n",
      "---  ------       -----\n",
      " 0   id           bool \n",
      " 1   date         bool \n",
      " 2   store_nbr    bool \n",
      " 3   family       bool \n",
      " 4   sales        bool \n",
      " 5   onpromotion  bool \n",
      "dtypes: bool(6)\n",
      "memory usage: 17.2 MB\n"
     ]
    }
   ],
   "source": [
    "df_train.notnull().info()"
   ]
  },
  {
   "cell_type": "code",
   "execution_count": 21,
   "id": "521abf2e",
   "metadata": {
    "collapsed": true
   },
   "outputs": [
    {
     "data": {
      "text/html": [
       "<div>\n",
       "<style scoped>\n",
       "    .dataframe tbody tr th:only-of-type {\n",
       "        vertical-align: middle;\n",
       "    }\n",
       "\n",
       "    .dataframe tbody tr th {\n",
       "        vertical-align: top;\n",
       "    }\n",
       "\n",
       "    .dataframe thead th {\n",
       "        text-align: right;\n",
       "    }\n",
       "</style>\n",
       "<table border=\"1\" class=\"dataframe\">\n",
       "  <thead>\n",
       "    <tr style=\"text-align: right;\">\n",
       "      <th></th>\n",
       "      <th>id</th>\n",
       "      <th>date</th>\n",
       "      <th>store_nbr</th>\n",
       "      <th>family</th>\n",
       "      <th>sales</th>\n",
       "      <th>onpromotion</th>\n",
       "    </tr>\n",
       "  </thead>\n",
       "  <tbody>\n",
       "    <tr>\n",
       "      <th>2216622</th>\n",
       "      <td>2216622</td>\n",
       "      <td>2016-05-31</td>\n",
       "      <td>53</td>\n",
       "      <td>GROCERY I</td>\n",
       "      <td>7517.0</td>\n",
       "      <td>741</td>\n",
       "    </tr>\n",
       "    <tr>\n",
       "      <th>2200584</th>\n",
       "      <td>2200584</td>\n",
       "      <td>2016-05-22</td>\n",
       "      <td>53</td>\n",
       "      <td>GROCERY I</td>\n",
       "      <td>6044.0</td>\n",
       "      <td>726</td>\n",
       "    </tr>\n",
       "    <tr>\n",
       "      <th>2211276</th>\n",
       "      <td>2211276</td>\n",
       "      <td>2016-05-28</td>\n",
       "      <td>53</td>\n",
       "      <td>GROCERY I</td>\n",
       "      <td>5846.0</td>\n",
       "      <td>722</td>\n",
       "    </tr>\n",
       "    <tr>\n",
       "      <th>2188110</th>\n",
       "      <td>2188110</td>\n",
       "      <td>2016-05-15</td>\n",
       "      <td>53</td>\n",
       "      <td>GROCERY I</td>\n",
       "      <td>6154.0</td>\n",
       "      <td>720</td>\n",
       "    </tr>\n",
       "    <tr>\n",
       "      <th>2213058</th>\n",
       "      <td>2213058</td>\n",
       "      <td>2016-05-29</td>\n",
       "      <td>53</td>\n",
       "      <td>GROCERY I</td>\n",
       "      <td>6681.0</td>\n",
       "      <td>719</td>\n",
       "    </tr>\n",
       "    <tr>\n",
       "      <th>...</th>\n",
       "      <td>...</td>\n",
       "      <td>...</td>\n",
       "      <td>...</td>\n",
       "      <td>...</td>\n",
       "      <td>...</td>\n",
       "      <td>...</td>\n",
       "    </tr>\n",
       "    <tr>\n",
       "      <th>969637</th>\n",
       "      <td>969637</td>\n",
       "      <td>2014-06-30</td>\n",
       "      <td>15</td>\n",
       "      <td>SCHOOL AND OFFICE SUPPLIES</td>\n",
       "      <td>0.0</td>\n",
       "      <td>0</td>\n",
       "    </tr>\n",
       "    <tr>\n",
       "      <th>969638</th>\n",
       "      <td>969638</td>\n",
       "      <td>2014-06-30</td>\n",
       "      <td>15</td>\n",
       "      <td>SEAFOOD</td>\n",
       "      <td>17.0</td>\n",
       "      <td>0</td>\n",
       "    </tr>\n",
       "    <tr>\n",
       "      <th>969640</th>\n",
       "      <td>969640</td>\n",
       "      <td>2014-06-30</td>\n",
       "      <td>16</td>\n",
       "      <td>BABY CARE</td>\n",
       "      <td>0.0</td>\n",
       "      <td>0</td>\n",
       "    </tr>\n",
       "    <tr>\n",
       "      <th>969641</th>\n",
       "      <td>969641</td>\n",
       "      <td>2014-06-30</td>\n",
       "      <td>16</td>\n",
       "      <td>BEAUTY</td>\n",
       "      <td>0.0</td>\n",
       "      <td>0</td>\n",
       "    </tr>\n",
       "    <tr>\n",
       "      <th>3000887</th>\n",
       "      <td>3000887</td>\n",
       "      <td>2017-08-15</td>\n",
       "      <td>9</td>\n",
       "      <td>SEAFOOD</td>\n",
       "      <td>16.0</td>\n",
       "      <td>0</td>\n",
       "    </tr>\n",
       "  </tbody>\n",
       "</table>\n",
       "<p>3000888 rows × 6 columns</p>\n",
       "</div>"
      ],
      "text/plain": [
       "              id        date  store_nbr                      family   sales  \\\n",
       "2216622  2216622  2016-05-31         53                   GROCERY I  7517.0   \n",
       "2200584  2200584  2016-05-22         53                   GROCERY I  6044.0   \n",
       "2211276  2211276  2016-05-28         53                   GROCERY I  5846.0   \n",
       "2188110  2188110  2016-05-15         53                   GROCERY I  6154.0   \n",
       "2213058  2213058  2016-05-29         53                   GROCERY I  6681.0   \n",
       "...          ...         ...        ...                         ...     ...   \n",
       "969637    969637  2014-06-30         15  SCHOOL AND OFFICE SUPPLIES     0.0   \n",
       "969638    969638  2014-06-30         15                     SEAFOOD    17.0   \n",
       "969640    969640  2014-06-30         16                   BABY CARE     0.0   \n",
       "969641    969641  2014-06-30         16                      BEAUTY     0.0   \n",
       "3000887  3000887  2017-08-15          9                     SEAFOOD    16.0   \n",
       "\n",
       "         onpromotion  \n",
       "2216622          741  \n",
       "2200584          726  \n",
       "2211276          722  \n",
       "2188110          720  \n",
       "2213058          719  \n",
       "...              ...  \n",
       "969637             0  \n",
       "969638             0  \n",
       "969640             0  \n",
       "969641             0  \n",
       "3000887            0  \n",
       "\n",
       "[3000888 rows x 6 columns]"
      ]
     },
     "execution_count": 21,
     "metadata": {},
     "output_type": "execute_result"
    }
   ],
   "source": [
    "# the '.sort_values' was used to sort the data in decending order based on column names. In this case promotion was used\n",
    "df_train.sort_values('onpromotion',ascending=False)"
   ]
  },
  {
   "cell_type": "markdown",
   "id": "fecbbe84",
   "metadata": {},
   "source": [
    "***Exploring the Test Data***"
   ]
  },
  {
   "cell_type": "code",
   "execution_count": 41,
   "id": "cd67d44d",
   "metadata": {
    "collapsed": true
   },
   "outputs": [
    {
     "name": "stdout",
     "output_type": "stream",
     "text": [
      "<class 'pandas.core.frame.DataFrame'>\n",
      "RangeIndex: 28512 entries, 0 to 28511\n",
      "Data columns (total 5 columns):\n",
      " #   Column       Non-Null Count  Dtype\n",
      "---  ------       --------------  -----\n",
      " 0   id           28512 non-null  bool \n",
      " 1   date         28512 non-null  bool \n",
      " 2   store_nbr    28512 non-null  bool \n",
      " 3   family       28512 non-null  bool \n",
      " 4   onpromotion  28512 non-null  bool \n",
      "dtypes: bool(5)\n",
      "memory usage: 139.3 KB\n"
     ]
    }
   ],
   "source": [
    "df_test.isnull().info()"
   ]
  },
  {
   "cell_type": "markdown",
   "id": "a5126e9c",
   "metadata": {},
   "source": [
    "***Exploring the Oil Data set***"
   ]
  },
  {
   "cell_type": "code",
   "execution_count": 27,
   "id": "ae37efd0",
   "metadata": {
    "scrolled": true
   },
   "outputs": [
    {
     "name": "stdout",
     "output_type": "stream",
     "text": [
      "<class 'pandas.core.frame.DataFrame'>\n",
      "RangeIndex: 1218 entries, 0 to 1217\n",
      "Data columns (total 2 columns):\n",
      " #   Column      Non-Null Count  Dtype\n",
      "---  ------      --------------  -----\n",
      " 0   date        1218 non-null   bool \n",
      " 1   dcoilwtico  1218 non-null   bool \n",
      "dtypes: bool(2)\n",
      "memory usage: 2.5 KB\n"
     ]
    }
   ],
   "source": [
    "Oil.isnull().info()"
   ]
  },
  {
   "cell_type": "code",
   "execution_count": 31,
   "id": "d1161947",
   "metadata": {},
   "outputs": [
    {
     "data": {
      "text/plain": [
       "date          1218\n",
       "dcoilwtico     998\n",
       "dtype: int64"
      ]
     },
     "execution_count": 31,
     "metadata": {},
     "output_type": "execute_result"
    }
   ],
   "source": [
    "Oil.nunique()"
   ]
  },
  {
   "cell_type": "code",
   "execution_count": 75,
   "id": "c8e3b87d",
   "metadata": {
    "collapsed": true
   },
   "outputs": [
    {
     "data": {
      "text/html": [
       "<div>\n",
       "<style scoped>\n",
       "    .dataframe tbody tr th:only-of-type {\n",
       "        vertical-align: middle;\n",
       "    }\n",
       "\n",
       "    .dataframe tbody tr th {\n",
       "        vertical-align: top;\n",
       "    }\n",
       "\n",
       "    .dataframe thead th {\n",
       "        text-align: right;\n",
       "    }\n",
       "</style>\n",
       "<table border=\"1\" class=\"dataframe\">\n",
       "  <thead>\n",
       "    <tr style=\"text-align: right;\">\n",
       "      <th></th>\n",
       "      <th>date</th>\n",
       "      <th>dcoilwtico</th>\n",
       "    </tr>\n",
       "  </thead>\n",
       "  <tbody>\n",
       "    <tr>\n",
       "      <th>0</th>\n",
       "      <td>2013-01-01</td>\n",
       "      <td>NaN</td>\n",
       "    </tr>\n",
       "    <tr>\n",
       "      <th>14</th>\n",
       "      <td>2013-01-21</td>\n",
       "      <td>NaN</td>\n",
       "    </tr>\n",
       "    <tr>\n",
       "      <th>34</th>\n",
       "      <td>2013-02-18</td>\n",
       "      <td>NaN</td>\n",
       "    </tr>\n",
       "    <tr>\n",
       "      <th>63</th>\n",
       "      <td>2013-03-29</td>\n",
       "      <td>NaN</td>\n",
       "    </tr>\n",
       "    <tr>\n",
       "      <th>104</th>\n",
       "      <td>2013-05-27</td>\n",
       "      <td>NaN</td>\n",
       "    </tr>\n",
       "    <tr>\n",
       "      <th>132</th>\n",
       "      <td>2013-07-04</td>\n",
       "      <td>NaN</td>\n",
       "    </tr>\n",
       "    <tr>\n",
       "      <th>174</th>\n",
       "      <td>2013-09-02</td>\n",
       "      <td>NaN</td>\n",
       "    </tr>\n",
       "    <tr>\n",
       "      <th>237</th>\n",
       "      <td>2013-11-28</td>\n",
       "      <td>NaN</td>\n",
       "    </tr>\n",
       "    <tr>\n",
       "      <th>256</th>\n",
       "      <td>2013-12-25</td>\n",
       "      <td>NaN</td>\n",
       "    </tr>\n",
       "    <tr>\n",
       "      <th>261</th>\n",
       "      <td>2014-01-01</td>\n",
       "      <td>NaN</td>\n",
       "    </tr>\n",
       "    <tr>\n",
       "      <th>274</th>\n",
       "      <td>2014-01-20</td>\n",
       "      <td>NaN</td>\n",
       "    </tr>\n",
       "    <tr>\n",
       "      <th>294</th>\n",
       "      <td>2014-02-17</td>\n",
       "      <td>NaN</td>\n",
       "    </tr>\n",
       "    <tr>\n",
       "      <th>338</th>\n",
       "      <td>2014-04-18</td>\n",
       "      <td>NaN</td>\n",
       "    </tr>\n",
       "    <tr>\n",
       "      <th>364</th>\n",
       "      <td>2014-05-26</td>\n",
       "      <td>NaN</td>\n",
       "    </tr>\n",
       "    <tr>\n",
       "      <th>393</th>\n",
       "      <td>2014-07-04</td>\n",
       "      <td>NaN</td>\n",
       "    </tr>\n",
       "    <tr>\n",
       "      <th>434</th>\n",
       "      <td>2014-09-01</td>\n",
       "      <td>NaN</td>\n",
       "    </tr>\n",
       "    <tr>\n",
       "      <th>497</th>\n",
       "      <td>2014-11-27</td>\n",
       "      <td>NaN</td>\n",
       "    </tr>\n",
       "    <tr>\n",
       "      <th>517</th>\n",
       "      <td>2014-12-25</td>\n",
       "      <td>NaN</td>\n",
       "    </tr>\n",
       "    <tr>\n",
       "      <th>522</th>\n",
       "      <td>2015-01-01</td>\n",
       "      <td>NaN</td>\n",
       "    </tr>\n",
       "    <tr>\n",
       "      <th>534</th>\n",
       "      <td>2015-01-19</td>\n",
       "      <td>NaN</td>\n",
       "    </tr>\n",
       "    <tr>\n",
       "      <th>554</th>\n",
       "      <td>2015-02-16</td>\n",
       "      <td>NaN</td>\n",
       "    </tr>\n",
       "    <tr>\n",
       "      <th>588</th>\n",
       "      <td>2015-04-03</td>\n",
       "      <td>NaN</td>\n",
       "    </tr>\n",
       "    <tr>\n",
       "      <th>624</th>\n",
       "      <td>2015-05-25</td>\n",
       "      <td>NaN</td>\n",
       "    </tr>\n",
       "    <tr>\n",
       "      <th>653</th>\n",
       "      <td>2015-07-03</td>\n",
       "      <td>NaN</td>\n",
       "    </tr>\n",
       "    <tr>\n",
       "      <th>699</th>\n",
       "      <td>2015-09-07</td>\n",
       "      <td>NaN</td>\n",
       "    </tr>\n",
       "    <tr>\n",
       "      <th>757</th>\n",
       "      <td>2015-11-26</td>\n",
       "      <td>NaN</td>\n",
       "    </tr>\n",
       "    <tr>\n",
       "      <th>778</th>\n",
       "      <td>2015-12-25</td>\n",
       "      <td>NaN</td>\n",
       "    </tr>\n",
       "    <tr>\n",
       "      <th>783</th>\n",
       "      <td>2016-01-01</td>\n",
       "      <td>NaN</td>\n",
       "    </tr>\n",
       "    <tr>\n",
       "      <th>794</th>\n",
       "      <td>2016-01-18</td>\n",
       "      <td>NaN</td>\n",
       "    </tr>\n",
       "    <tr>\n",
       "      <th>814</th>\n",
       "      <td>2016-02-15</td>\n",
       "      <td>NaN</td>\n",
       "    </tr>\n",
       "    <tr>\n",
       "      <th>843</th>\n",
       "      <td>2016-03-25</td>\n",
       "      <td>NaN</td>\n",
       "    </tr>\n",
       "    <tr>\n",
       "      <th>889</th>\n",
       "      <td>2016-05-30</td>\n",
       "      <td>NaN</td>\n",
       "    </tr>\n",
       "    <tr>\n",
       "      <th>914</th>\n",
       "      <td>2016-07-04</td>\n",
       "      <td>NaN</td>\n",
       "    </tr>\n",
       "    <tr>\n",
       "      <th>959</th>\n",
       "      <td>2016-09-05</td>\n",
       "      <td>NaN</td>\n",
       "    </tr>\n",
       "    <tr>\n",
       "      <th>1017</th>\n",
       "      <td>2016-11-24</td>\n",
       "      <td>NaN</td>\n",
       "    </tr>\n",
       "    <tr>\n",
       "      <th>1039</th>\n",
       "      <td>2016-12-26</td>\n",
       "      <td>NaN</td>\n",
       "    </tr>\n",
       "    <tr>\n",
       "      <th>1044</th>\n",
       "      <td>2017-01-02</td>\n",
       "      <td>NaN</td>\n",
       "    </tr>\n",
       "    <tr>\n",
       "      <th>1054</th>\n",
       "      <td>2017-01-16</td>\n",
       "      <td>NaN</td>\n",
       "    </tr>\n",
       "    <tr>\n",
       "      <th>1079</th>\n",
       "      <td>2017-02-20</td>\n",
       "      <td>NaN</td>\n",
       "    </tr>\n",
       "    <tr>\n",
       "      <th>1118</th>\n",
       "      <td>2017-04-14</td>\n",
       "      <td>NaN</td>\n",
       "    </tr>\n",
       "    <tr>\n",
       "      <th>1149</th>\n",
       "      <td>2017-05-29</td>\n",
       "      <td>NaN</td>\n",
       "    </tr>\n",
       "    <tr>\n",
       "      <th>1174</th>\n",
       "      <td>2017-07-03</td>\n",
       "      <td>NaN</td>\n",
       "    </tr>\n",
       "    <tr>\n",
       "      <th>1175</th>\n",
       "      <td>2017-07-04</td>\n",
       "      <td>NaN</td>\n",
       "    </tr>\n",
       "  </tbody>\n",
       "</table>\n",
       "</div>"
      ],
      "text/plain": [
       "            date  dcoilwtico\n",
       "0     2013-01-01         NaN\n",
       "14    2013-01-21         NaN\n",
       "34    2013-02-18         NaN\n",
       "63    2013-03-29         NaN\n",
       "104   2013-05-27         NaN\n",
       "132   2013-07-04         NaN\n",
       "174   2013-09-02         NaN\n",
       "237   2013-11-28         NaN\n",
       "256   2013-12-25         NaN\n",
       "261   2014-01-01         NaN\n",
       "274   2014-01-20         NaN\n",
       "294   2014-02-17         NaN\n",
       "338   2014-04-18         NaN\n",
       "364   2014-05-26         NaN\n",
       "393   2014-07-04         NaN\n",
       "434   2014-09-01         NaN\n",
       "497   2014-11-27         NaN\n",
       "517   2014-12-25         NaN\n",
       "522   2015-01-01         NaN\n",
       "534   2015-01-19         NaN\n",
       "554   2015-02-16         NaN\n",
       "588   2015-04-03         NaN\n",
       "624   2015-05-25         NaN\n",
       "653   2015-07-03         NaN\n",
       "699   2015-09-07         NaN\n",
       "757   2015-11-26         NaN\n",
       "778   2015-12-25         NaN\n",
       "783   2016-01-01         NaN\n",
       "794   2016-01-18         NaN\n",
       "814   2016-02-15         NaN\n",
       "843   2016-03-25         NaN\n",
       "889   2016-05-30         NaN\n",
       "914   2016-07-04         NaN\n",
       "959   2016-09-05         NaN\n",
       "1017  2016-11-24         NaN\n",
       "1039  2016-12-26         NaN\n",
       "1044  2017-01-02         NaN\n",
       "1054  2017-01-16         NaN\n",
       "1079  2017-02-20         NaN\n",
       "1118  2017-04-14         NaN\n",
       "1149  2017-05-29         NaN\n",
       "1174  2017-07-03         NaN\n",
       "1175  2017-07-04         NaN"
      ]
     },
     "execution_count": 75,
     "metadata": {},
     "output_type": "execute_result"
    }
   ],
   "source": [
    "# creating bool series True for NaN values\n",
    "bool_series = pd.isnull(Oil[\"dcoilwtico\"])\n",
    "   \n",
    "# filtering data\n",
    "# displaying data only with oil values = NaN\n",
    "Oil[bool_series]\n"
   ]
  },
  {
   "cell_type": "code",
   "execution_count": null,
   "id": "daab94a4",
   "metadata": {},
   "outputs": [],
   "source": [
    "oily = pd.DataFrame(list(Oil.groupby('dcoilwtico')), columns = ['price', 'dates'])"
   ]
  },
  {
   "cell_type": "code",
   "execution_count": null,
   "id": "9ec04e35",
   "metadata": {},
   "outputs": [],
   "source": [
    "oily"
   ]
  },
  {
   "cell_type": "code",
   "execution_count": null,
   "id": "21c18583",
   "metadata": {},
   "outputs": [],
   "source": []
  },
  {
   "cell_type": "markdown",
   "id": "bc22a3f1",
   "metadata": {},
   "source": [
    "***Exploring the Holidays Dataset***"
   ]
  },
  {
   "cell_type": "code",
   "execution_count": 42,
   "id": "af5d12eb",
   "metadata": {
    "collapsed": true
   },
   "outputs": [
    {
     "name": "stdout",
     "output_type": "stream",
     "text": [
      "<class 'pandas.core.frame.DataFrame'>\n",
      "RangeIndex: 350 entries, 0 to 349\n",
      "Data columns (total 6 columns):\n",
      " #   Column       Non-Null Count  Dtype\n",
      "---  ------       --------------  -----\n",
      " 0   date         350 non-null    bool \n",
      " 1   type         350 non-null    bool \n",
      " 2   locale       350 non-null    bool \n",
      " 3   locale_name  350 non-null    bool \n",
      " 4   description  350 non-null    bool \n",
      " 5   transferred  350 non-null    bool \n",
      "dtypes: bool(6)\n",
      "memory usage: 2.2 KB\n"
     ]
    }
   ],
   "source": [
    "holidays.isnull().info()"
   ]
  },
  {
   "cell_type": "markdown",
   "id": "300de861",
   "metadata": {},
   "source": [
    "***Exploring the Transactions Dataset***"
   ]
  },
  {
   "cell_type": "code",
   "execution_count": 52,
   "id": "d3d783cf",
   "metadata": {},
   "outputs": [
    {
     "name": "stdout",
     "output_type": "stream",
     "text": [
      "<class 'pandas.core.frame.DataFrame'>\n",
      "RangeIndex: 83488 entries, 0 to 83487\n",
      "Data columns (total 3 columns):\n",
      " #   Column        Non-Null Count  Dtype\n",
      "---  ------        --------------  -----\n",
      " 0   date          83488 non-null  bool \n",
      " 1   store_nbr     83488 non-null  bool \n",
      " 2   transactions  83488 non-null  bool \n",
      "dtypes: bool(3)\n",
      "memory usage: 244.7 KB\n"
     ]
    }
   ],
   "source": [
    "transactions.isnull().info()"
   ]
  },
  {
   "cell_type": "code",
   "execution_count": 53,
   "id": "4b062812",
   "metadata": {
    "scrolled": true
   },
   "outputs": [
    {
     "data": {
      "text/plain": [
       "date            1682\n",
       "store_nbr         54\n",
       "transactions    4993\n",
       "dtype: int64"
      ]
     },
     "execution_count": 53,
     "metadata": {},
     "output_type": "execute_result"
    }
   ],
   "source": [
    "transactions.nunique()"
   ]
  },
  {
   "cell_type": "code",
   "execution_count": 74,
   "id": "8d0ca343",
   "metadata": {},
   "outputs": [
    {
     "data": {
      "text/html": [
       "<div>\n",
       "<style scoped>\n",
       "    .dataframe tbody tr th:only-of-type {\n",
       "        vertical-align: middle;\n",
       "    }\n",
       "\n",
       "    .dataframe tbody tr th {\n",
       "        vertical-align: top;\n",
       "    }\n",
       "\n",
       "    .dataframe thead th {\n",
       "        text-align: right;\n",
       "    }\n",
       "</style>\n",
       "<table border=\"1\" class=\"dataframe\">\n",
       "  <thead>\n",
       "    <tr style=\"text-align: right;\">\n",
       "      <th></th>\n",
       "      <th>date</th>\n",
       "      <th>store_nbr</th>\n",
       "      <th>transactions</th>\n",
       "    </tr>\n",
       "  </thead>\n",
       "  <tbody>\n",
       "  </tbody>\n",
       "</table>\n",
       "</div>"
      ],
      "text/plain": [
       "Empty DataFrame\n",
       "Columns: [date, store_nbr, transactions]\n",
       "Index: []"
      ]
     },
     "execution_count": 74,
     "metadata": {},
     "output_type": "execute_result"
    }
   ],
   "source": [
    "# creating bool series True for NaN values\n",
    "bool_series1 = pd.isnull(transactions[\"transactions\"])\n",
    "   \n",
    "# filtering data\n",
    "# displaying data only with oil values = NaN\n",
    "transactions[bool_series1]\n"
   ]
  },
  {
   "cell_type": "markdown",
   "id": "667362bb",
   "metadata": {},
   "source": [
    "***Exploring the Stores Dataset***"
   ]
  },
  {
   "cell_type": "code",
   "execution_count": 57,
   "id": "f6ef2214",
   "metadata": {
    "collapsed": true
   },
   "outputs": [
    {
     "name": "stdout",
     "output_type": "stream",
     "text": [
      "<class 'pandas.core.frame.DataFrame'>\n",
      "RangeIndex: 54 entries, 0 to 53\n",
      "Data columns (total 5 columns):\n",
      " #   Column     Non-Null Count  Dtype\n",
      "---  ------     --------------  -----\n",
      " 0   store_nbr  54 non-null     bool \n",
      " 1   city       54 non-null     bool \n",
      " 2   state      54 non-null     bool \n",
      " 3   type       54 non-null     bool \n",
      " 4   cluster    54 non-null     bool \n",
      "dtypes: bool(5)\n",
      "memory usage: 398.0 bytes\n"
     ]
    }
   ],
   "source": [
    "stores.isnull().info()"
   ]
  },
  {
   "cell_type": "code",
   "execution_count": 73,
   "id": "cc303ec4",
   "metadata": {
    "collapsed": true
   },
   "outputs": [
    {
     "data": {
      "text/plain": [
       "store_nbr    54\n",
       "city         22\n",
       "state        16\n",
       "type          5\n",
       "cluster      17\n",
       "dtype: int64"
      ]
     },
     "execution_count": 73,
     "metadata": {},
     "output_type": "execute_result"
    }
   ],
   "source": [
    "stores.nunique()"
   ]
  },
  {
   "cell_type": "code",
   "execution_count": 76,
   "id": "2ad29c04",
   "metadata": {
    "collapsed": true
   },
   "outputs": [
    {
     "data": {
      "text/html": [
       "<div>\n",
       "<style scoped>\n",
       "    .dataframe tbody tr th:only-of-type {\n",
       "        vertical-align: middle;\n",
       "    }\n",
       "\n",
       "    .dataframe tbody tr th {\n",
       "        vertical-align: top;\n",
       "    }\n",
       "\n",
       "    .dataframe thead th {\n",
       "        text-align: right;\n",
       "    }\n",
       "</style>\n",
       "<table border=\"1\" class=\"dataframe\">\n",
       "  <thead>\n",
       "    <tr style=\"text-align: right;\">\n",
       "      <th></th>\n",
       "      <th>store_nbr</th>\n",
       "      <th>city</th>\n",
       "      <th>state</th>\n",
       "      <th>type</th>\n",
       "      <th>cluster</th>\n",
       "    </tr>\n",
       "  </thead>\n",
       "  <tbody>\n",
       "  </tbody>\n",
       "</table>\n",
       "</div>"
      ],
      "text/plain": [
       "Empty DataFrame\n",
       "Columns: [store_nbr, city, state, type, cluster]\n",
       "Index: []"
      ]
     },
     "execution_count": 76,
     "metadata": {},
     "output_type": "execute_result"
    }
   ],
   "source": [
    "# creating bool series True for NaN values\n",
    "bool_series2 = pd.isnull(stores[\"type\"])\n",
    "   \n",
    "# filtering data\n",
    "# displaying data only with oil values = NaN\n",
    "stores[bool_series2]\n"
   ]
  },
  {
   "cell_type": "markdown",
   "id": "ed302e8e",
   "metadata": {},
   "source": [
    "# Conclusion of Step 2\n",
    "\n",
    "***Complete DataSets***\n",
    ">Stores, Transacions and Holidays had the data in their respective dataframes complete. Next, certain columns will have to have their formats edited\n",
    "\n",
    "***Incomplete Datasets***\n"
   ]
  },
  {
   "cell_type": "markdown",
   "id": "4eb49adc",
   "metadata": {},
   "source": [
    "# Step 3: Conduct the necessary edits/cleaning to ensure dataframe columns have values in the right format."
   ]
  },
  {
   "cell_type": "markdown",
   "id": "3db38c0d",
   "metadata": {},
   "source": [
    "***Incomplete Datasets***"
   ]
  },
  {
   "cell_type": "markdown",
   "id": "c9647f76",
   "metadata": {},
   "source": [
    "# The Train Data\n",
    "***Question 10: Is the train dataset complete (has all the required dates)?"
   ]
  },
  {
   "cell_type": "code",
   "execution_count": 78,
   "id": "a50742a9",
   "metadata": {},
   "outputs": [
    {
     "data": {
      "text/plain": [
       "(3000888, 54, 33, 1684, 379610, 362)"
      ]
     },
     "execution_count": 78,
     "metadata": {},
     "output_type": "execute_result"
    }
   ],
   "source": [
    "#\"it seems that the df_train does not have any null values. \\ \n",
    "#so we will check each column to ascertain the unique values.\n",
    "#Check for ID\n",
    "df_train.id.nunique(), df_train.store_nbr.nunique(), df_train.family.nunique(), df_train.date.nunique(), df_train.sales.nunique(), df_train.onpromotion.nunique()"
   ]
  },
  {
   "cell_type": "code",
   "execution_count": 79,
   "id": "ebe50c6e",
   "metadata": {
    "collapsed": true
   },
   "outputs": [
    {
     "name": "stdout",
     "output_type": "stream",
     "text": [
      "<class 'pandas.core.frame.DataFrame'>\n",
      "RangeIndex: 3000888 entries, 0 to 3000887\n",
      "Data columns (total 7 columns):\n",
      " #   Column       Dtype  \n",
      "---  ------       -----  \n",
      " 0   id           int64  \n",
      " 1   date         object \n",
      " 2   store_nbr    int64  \n",
      " 3   family       object \n",
      " 4   sales        float64\n",
      " 5   onpromotion  int64  \n",
      " 6   sales_date   object \n",
      "dtypes: float64(1), int64(3), object(3)\n",
      "memory usage: 160.3+ MB\n"
     ]
    }
   ],
   "source": [
    "#converting the info in the date column into date and casting it into a new column called sales date\n",
    "df_train[\"sales_date\"] = pd.to_datetime(df_train[\"date\"]).dt.date\n",
    "df_train.info()"
   ]
  },
  {
   "cell_type": "code",
   "execution_count": 80,
   "id": "8f0d976e",
   "metadata": {},
   "outputs": [
    {
     "data": {
      "text/plain": [
       "(datetime.date(2013, 1, 1), datetime.date(2017, 8, 15))"
      ]
     },
     "execution_count": 80,
     "metadata": {},
     "output_type": "execute_result"
    }
   ],
   "source": [
    "#identifying the minimum and maximum values in the date column in a proper DateTime format to be used for analysis\n",
    "df_train.sales_date.min(), df_train.sales_date.max()"
   ]
  },
  {
   "cell_type": "code",
   "execution_count": 81,
   "id": "3c010c83",
   "metadata": {},
   "outputs": [
    {
     "data": {
      "text/plain": [
       "(1688, 1684)"
      ]
     },
     "execution_count": 81,
     "metadata": {},
     "output_type": "execute_result"
    }
   ],
   "source": [
    "#verify the completeness of the dates column\n",
    "#to do that we would have to subtract the maximum dtae from the minimum date to obtain the total number  of dates for further analysis.\n",
    "\n",
    "## Expected Number of Days from our dataset\n",
    "dif = (df_train[\"sales_date\"].max() - df_train[\"sales_date\"].min())\n",
    "\n",
    "dif.days + 1, df_train[\"sales_date\"].nunique()"
   ]
  },
  {
   "cell_type": "markdown",
   "id": "f8faa22d",
   "metadata": {},
   "source": [
    "*** Inputting the Missing Dates with their respective values into the date column ***"
   ]
  },
  {
   "cell_type": "code",
   "execution_count": 82,
   "id": "f0f072d6",
   "metadata": {},
   "outputs": [
    {
     "data": {
      "text/plain": [
       "DatetimeIndex(['2013-01-01', '2013-01-02', '2013-01-03', '2013-01-04',\n",
       "               '2013-01-05', '2013-01-06', '2013-01-07', '2013-01-08',\n",
       "               '2013-01-09', '2013-01-10',\n",
       "               ...\n",
       "               '2017-08-06', '2017-08-07', '2017-08-08', '2017-08-09',\n",
       "               '2017-08-10', '2017-08-11', '2017-08-12', '2017-08-13',\n",
       "               '2017-08-14', '2017-08-15'],\n",
       "              dtype='datetime64[ns]', length=1688, freq='D')"
      ]
     },
     "execution_count": 82,
     "metadata": {},
     "output_type": "execute_result"
    }
   ],
   "source": [
    "expected_dates = pd.date_range(start=df_train[\"sales_date\"].min(), end=df_train[\"sales_date\"].max())\n",
    "expected_dates"
   ]
  },
  {
   "cell_type": "code",
   "execution_count": 83,
   "id": "dbb0c82a",
   "metadata": {
    "scrolled": true
   },
   "outputs": [
    {
     "data": {
      "text/plain": [
       "{datetime.date(2013, 12, 25),\n",
       " datetime.date(2014, 12, 25),\n",
       " datetime.date(2015, 12, 25),\n",
       " datetime.date(2016, 12, 25)}"
      ]
     },
     "execution_count": 83,
     "metadata": {},
     "output_type": "execute_result"
    }
   ],
   "source": [
    "set(expected_dates.date) - set(df_train[\"sales_date\"].reindex())"
   ]
  },
  {
   "cell_type": "markdown",
   "id": "75998255",
   "metadata": {},
   "source": [
    "***Inference:***\n",
    ">From the above it is evident that the train dataset contained missing dates which will have to be derived and added to the train dataframe to ensure its completeness."
   ]
  },
  {
   "cell_type": "markdown",
   "id": "586e5f7d",
   "metadata": {},
   "source": [
    "***Adding the Omitted DataFrames***\n",
    "\n",
    ">Codes & Steps for combining the omitted dates with the unique sotres and family and adding it to the main df\n",
    ">>We will use the  'from itertools import product' to create variables consisting of the missing dates, unique store and unique product families, create a list called 'missing_data' and cast it into a df variable called TBA(to-be-added). TBA will then bemerged with the main df to obtain a complete df with all dates intact."
   ]
  },
  {
   "cell_type": "code",
   "execution_count": 85,
   "id": "4d558f67",
   "metadata": {
    "collapsed": true
   },
   "outputs": [
    {
     "data": {
      "text/html": [
       "<div>\n",
       "<style scoped>\n",
       "    .dataframe tbody tr th:only-of-type {\n",
       "        vertical-align: middle;\n",
       "    }\n",
       "\n",
       "    .dataframe tbody tr th {\n",
       "        vertical-align: top;\n",
       "    }\n",
       "\n",
       "    .dataframe thead th {\n",
       "        text-align: right;\n",
       "    }\n",
       "</style>\n",
       "<table border=\"1\" class=\"dataframe\">\n",
       "  <thead>\n",
       "    <tr style=\"text-align: right;\">\n",
       "      <th></th>\n",
       "      <th>sales_date</th>\n",
       "      <th>store_nbr</th>\n",
       "      <th>family</th>\n",
       "    </tr>\n",
       "  </thead>\n",
       "  <tbody>\n",
       "    <tr>\n",
       "      <th>0</th>\n",
       "      <td>2015-12-25</td>\n",
       "      <td>1</td>\n",
       "      <td>AUTOMOTIVE</td>\n",
       "    </tr>\n",
       "    <tr>\n",
       "      <th>1</th>\n",
       "      <td>2015-12-25</td>\n",
       "      <td>1</td>\n",
       "      <td>BABY CARE</td>\n",
       "    </tr>\n",
       "    <tr>\n",
       "      <th>2</th>\n",
       "      <td>2015-12-25</td>\n",
       "      <td>1</td>\n",
       "      <td>BEAUTY</td>\n",
       "    </tr>\n",
       "    <tr>\n",
       "      <th>3</th>\n",
       "      <td>2015-12-25</td>\n",
       "      <td>1</td>\n",
       "      <td>BEVERAGES</td>\n",
       "    </tr>\n",
       "    <tr>\n",
       "      <th>4</th>\n",
       "      <td>2015-12-25</td>\n",
       "      <td>1</td>\n",
       "      <td>BOOKS</td>\n",
       "    </tr>\n",
       "    <tr>\n",
       "      <th>...</th>\n",
       "      <td>...</td>\n",
       "      <td>...</td>\n",
       "      <td>...</td>\n",
       "    </tr>\n",
       "    <tr>\n",
       "      <th>7123</th>\n",
       "      <td>2013-12-25</td>\n",
       "      <td>9</td>\n",
       "      <td>POULTRY</td>\n",
       "    </tr>\n",
       "    <tr>\n",
       "      <th>7124</th>\n",
       "      <td>2013-12-25</td>\n",
       "      <td>9</td>\n",
       "      <td>PREPARED FOODS</td>\n",
       "    </tr>\n",
       "    <tr>\n",
       "      <th>7125</th>\n",
       "      <td>2013-12-25</td>\n",
       "      <td>9</td>\n",
       "      <td>PRODUCE</td>\n",
       "    </tr>\n",
       "    <tr>\n",
       "      <th>7126</th>\n",
       "      <td>2013-12-25</td>\n",
       "      <td>9</td>\n",
       "      <td>SCHOOL AND OFFICE SUPPLIES</td>\n",
       "    </tr>\n",
       "    <tr>\n",
       "      <th>7127</th>\n",
       "      <td>2013-12-25</td>\n",
       "      <td>9</td>\n",
       "      <td>SEAFOOD</td>\n",
       "    </tr>\n",
       "  </tbody>\n",
       "</table>\n",
       "<p>7128 rows × 3 columns</p>\n",
       "</div>"
      ],
      "text/plain": [
       "      sales_date  store_nbr                      family\n",
       "0     2015-12-25          1                  AUTOMOTIVE\n",
       "1     2015-12-25          1                   BABY CARE\n",
       "2     2015-12-25          1                      BEAUTY\n",
       "3     2015-12-25          1                   BEVERAGES\n",
       "4     2015-12-25          1                       BOOKS\n",
       "...          ...        ...                         ...\n",
       "7123  2013-12-25          9                     POULTRY\n",
       "7124  2013-12-25          9              PREPARED FOODS\n",
       "7125  2013-12-25          9                     PRODUCE\n",
       "7126  2013-12-25          9  SCHOOL AND OFFICE SUPPLIES\n",
       "7127  2013-12-25          9                     SEAFOOD\n",
       "\n",
       "[7128 rows x 3 columns]"
      ]
     },
     "execution_count": 85,
     "metadata": {},
     "output_type": "execute_result"
    }
   ],
   "source": [
    "\"\"\"create variables called missing dates, unique_stores and unique_family /\n",
    "to store the difference between the expected number of dates and the actual number of dates,\n",
    "the unique store numbers and product families (categories) respectively\"\"\"\n",
    "missing_dates = set(expected_dates.date) - set(df_train.sales_date.unique())\n",
    "unique_stores = df_train.store_nbr.unique()\n",
    "unique_family = df_train.family.unique() \n",
    "\n",
    "missing_data = list(product(missing_dates, unique_stores, unique_family))\n",
    "#missing_data\n",
    "\n",
    "#TBA = To Be Added\n",
    "TBA = pd.DataFrame(missing_data, columns = ['sales_date', 'store_nbr', 'family'])\n",
    "TBA"
   ]
  },
  {
   "cell_type": "code",
   "execution_count": 97,
   "id": "5af4c5f8",
   "metadata": {},
   "outputs": [],
   "source": [
    "# Combine the df containing the missing dates with the origional dataframe\n",
    "train_merged = pd.concat([TBA, df_train], ignore_index=False)\n",
    "train_merged\n",
    "\n",
    "#Replacing all the missing values in the sales and promotion column\n",
    "train_merged['sales'] = merged_data['sales'].replace(np.nan, 0)\n",
    "train_merged['onpromotion'] = merged_data['onpromotion'].replace(np.nan, 0)\n",
    "\n",
    "#Converting the sales and promotion columns from float to int\n",
    "train_merged['sales'] = merged_data['sales'].astype(int)\n",
    "train_merged['onpromotion'] = merged_data['onpromotion'].astype(int)"
   ]
  },
  {
   "cell_type": "code",
   "execution_count": 93,
   "id": "1974be8f",
   "metadata": {
    "collapsed": true
   },
   "outputs": [
    {
     "data": {
      "text/html": [
       "<div>\n",
       "<style scoped>\n",
       "    .dataframe tbody tr th:only-of-type {\n",
       "        vertical-align: middle;\n",
       "    }\n",
       "\n",
       "    .dataframe tbody tr th {\n",
       "        vertical-align: top;\n",
       "    }\n",
       "\n",
       "    .dataframe thead th {\n",
       "        text-align: right;\n",
       "    }\n",
       "</style>\n",
       "<table border=\"1\" class=\"dataframe\">\n",
       "  <thead>\n",
       "    <tr style=\"text-align: right;\">\n",
       "      <th></th>\n",
       "      <th>sales_date</th>\n",
       "      <th>store_nbr</th>\n",
       "      <th>family</th>\n",
       "      <th>id</th>\n",
       "      <th>date</th>\n",
       "      <th>sales</th>\n",
       "      <th>onpromotion</th>\n",
       "    </tr>\n",
       "  </thead>\n",
       "  <tbody>\n",
       "    <tr>\n",
       "      <th>0</th>\n",
       "      <td>2015-12-25</td>\n",
       "      <td>1</td>\n",
       "      <td>AUTOMOTIVE</td>\n",
       "      <td>NaN</td>\n",
       "      <td>NaN</td>\n",
       "      <td>NaN</td>\n",
       "      <td>NaN</td>\n",
       "    </tr>\n",
       "    <tr>\n",
       "      <th>1</th>\n",
       "      <td>2015-12-25</td>\n",
       "      <td>1</td>\n",
       "      <td>BABY CARE</td>\n",
       "      <td>NaN</td>\n",
       "      <td>NaN</td>\n",
       "      <td>NaN</td>\n",
       "      <td>NaN</td>\n",
       "    </tr>\n",
       "    <tr>\n",
       "      <th>2</th>\n",
       "      <td>2015-12-25</td>\n",
       "      <td>1</td>\n",
       "      <td>BEAUTY</td>\n",
       "      <td>NaN</td>\n",
       "      <td>NaN</td>\n",
       "      <td>NaN</td>\n",
       "      <td>NaN</td>\n",
       "    </tr>\n",
       "    <tr>\n",
       "      <th>3</th>\n",
       "      <td>2015-12-25</td>\n",
       "      <td>1</td>\n",
       "      <td>BEVERAGES</td>\n",
       "      <td>NaN</td>\n",
       "      <td>NaN</td>\n",
       "      <td>NaN</td>\n",
       "      <td>NaN</td>\n",
       "    </tr>\n",
       "    <tr>\n",
       "      <th>4</th>\n",
       "      <td>2015-12-25</td>\n",
       "      <td>1</td>\n",
       "      <td>BOOKS</td>\n",
       "      <td>NaN</td>\n",
       "      <td>NaN</td>\n",
       "      <td>NaN</td>\n",
       "      <td>NaN</td>\n",
       "    </tr>\n",
       "    <tr>\n",
       "      <th>...</th>\n",
       "      <td>...</td>\n",
       "      <td>...</td>\n",
       "      <td>...</td>\n",
       "      <td>...</td>\n",
       "      <td>...</td>\n",
       "      <td>...</td>\n",
       "      <td>...</td>\n",
       "    </tr>\n",
       "    <tr>\n",
       "      <th>3000883</th>\n",
       "      <td>2017-08-15</td>\n",
       "      <td>9</td>\n",
       "      <td>POULTRY</td>\n",
       "      <td>3000883.0</td>\n",
       "      <td>2017-08-15</td>\n",
       "      <td>438.133</td>\n",
       "      <td>0.0</td>\n",
       "    </tr>\n",
       "    <tr>\n",
       "      <th>3000884</th>\n",
       "      <td>2017-08-15</td>\n",
       "      <td>9</td>\n",
       "      <td>PREPARED FOODS</td>\n",
       "      <td>3000884.0</td>\n",
       "      <td>2017-08-15</td>\n",
       "      <td>154.553</td>\n",
       "      <td>1.0</td>\n",
       "    </tr>\n",
       "    <tr>\n",
       "      <th>3000885</th>\n",
       "      <td>2017-08-15</td>\n",
       "      <td>9</td>\n",
       "      <td>PRODUCE</td>\n",
       "      <td>3000885.0</td>\n",
       "      <td>2017-08-15</td>\n",
       "      <td>2419.729</td>\n",
       "      <td>148.0</td>\n",
       "    </tr>\n",
       "    <tr>\n",
       "      <th>3000886</th>\n",
       "      <td>2017-08-15</td>\n",
       "      <td>9</td>\n",
       "      <td>SCHOOL AND OFFICE SUPPLIES</td>\n",
       "      <td>3000886.0</td>\n",
       "      <td>2017-08-15</td>\n",
       "      <td>121.000</td>\n",
       "      <td>8.0</td>\n",
       "    </tr>\n",
       "    <tr>\n",
       "      <th>3000887</th>\n",
       "      <td>2017-08-15</td>\n",
       "      <td>9</td>\n",
       "      <td>SEAFOOD</td>\n",
       "      <td>3000887.0</td>\n",
       "      <td>2017-08-15</td>\n",
       "      <td>16.000</td>\n",
       "      <td>0.0</td>\n",
       "    </tr>\n",
       "  </tbody>\n",
       "</table>\n",
       "<p>3008016 rows × 7 columns</p>\n",
       "</div>"
      ],
      "text/plain": [
       "         sales_date  store_nbr                      family         id  \\\n",
       "0        2015-12-25          1                  AUTOMOTIVE        NaN   \n",
       "1        2015-12-25          1                   BABY CARE        NaN   \n",
       "2        2015-12-25          1                      BEAUTY        NaN   \n",
       "3        2015-12-25          1                   BEVERAGES        NaN   \n",
       "4        2015-12-25          1                       BOOKS        NaN   \n",
       "...             ...        ...                         ...        ...   \n",
       "3000883  2017-08-15          9                     POULTRY  3000883.0   \n",
       "3000884  2017-08-15          9              PREPARED FOODS  3000884.0   \n",
       "3000885  2017-08-15          9                     PRODUCE  3000885.0   \n",
       "3000886  2017-08-15          9  SCHOOL AND OFFICE SUPPLIES  3000886.0   \n",
       "3000887  2017-08-15          9                     SEAFOOD  3000887.0   \n",
       "\n",
       "               date     sales  onpromotion  \n",
       "0               NaN       NaN          NaN  \n",
       "1               NaN       NaN          NaN  \n",
       "2               NaN       NaN          NaN  \n",
       "3               NaN       NaN          NaN  \n",
       "4               NaN       NaN          NaN  \n",
       "...             ...       ...          ...  \n",
       "3000883  2017-08-15   438.133          0.0  \n",
       "3000884  2017-08-15   154.553          1.0  \n",
       "3000885  2017-08-15  2419.729        148.0  \n",
       "3000886  2017-08-15   121.000          8.0  \n",
       "3000887  2017-08-15    16.000          0.0  \n",
       "\n",
       "[3008016 rows x 7 columns]"
      ]
     },
     "execution_count": 93,
     "metadata": {},
     "output_type": "execute_result"
    }
   ],
   "source": [
    "# Combine the df containing the missing dates with the origional dataframe\n",
    "train_merged = pd.concat([TBA, df_train], ignore_index=False)\n",
    "train_merged"
   ]
  },
  {
   "cell_type": "code",
   "execution_count": 94,
   "id": "a13283cc",
   "metadata": {},
   "outputs": [],
   "source": [
    "# Combine the df containing the missing dates with the origional dataframe\n",
    "train_merged = pd.concat([TBA, df_train], ignore_index=False)\n",
    "train_merged\n",
    "\n",
    "#Replacing all the missing values in the sales and promotion column\n",
    "train_merged['sales'] = merged_data['sales'].replace(np.nan, 0)\n",
    "train_merged['onpromotion'] = merged_data['onpromotion'].replace(np.nan, 0)"
   ]
  },
  {
   "cell_type": "code",
   "execution_count": 98,
   "id": "2551a52f",
   "metadata": {
    "collapsed": true
   },
   "outputs": [
    {
     "data": {
      "text/html": [
       "<div>\n",
       "<style scoped>\n",
       "    .dataframe tbody tr th:only-of-type {\n",
       "        vertical-align: middle;\n",
       "    }\n",
       "\n",
       "    .dataframe tbody tr th {\n",
       "        vertical-align: top;\n",
       "    }\n",
       "\n",
       "    .dataframe thead th {\n",
       "        text-align: right;\n",
       "    }\n",
       "</style>\n",
       "<table border=\"1\" class=\"dataframe\">\n",
       "  <thead>\n",
       "    <tr style=\"text-align: right;\">\n",
       "      <th></th>\n",
       "      <th>sales_date</th>\n",
       "      <th>store_nbr</th>\n",
       "      <th>family</th>\n",
       "      <th>id</th>\n",
       "      <th>date</th>\n",
       "      <th>sales</th>\n",
       "      <th>onpromotion</th>\n",
       "    </tr>\n",
       "  </thead>\n",
       "  <tbody>\n",
       "    <tr>\n",
       "      <th>0</th>\n",
       "      <td>2015-12-25</td>\n",
       "      <td>1</td>\n",
       "      <td>AUTOMOTIVE</td>\n",
       "      <td>NaN</td>\n",
       "      <td>NaN</td>\n",
       "      <td>0</td>\n",
       "      <td>0</td>\n",
       "    </tr>\n",
       "    <tr>\n",
       "      <th>1</th>\n",
       "      <td>2015-12-25</td>\n",
       "      <td>1</td>\n",
       "      <td>BABY CARE</td>\n",
       "      <td>NaN</td>\n",
       "      <td>NaN</td>\n",
       "      <td>0</td>\n",
       "      <td>0</td>\n",
       "    </tr>\n",
       "    <tr>\n",
       "      <th>2</th>\n",
       "      <td>2015-12-25</td>\n",
       "      <td>1</td>\n",
       "      <td>BEAUTY</td>\n",
       "      <td>NaN</td>\n",
       "      <td>NaN</td>\n",
       "      <td>0</td>\n",
       "      <td>0</td>\n",
       "    </tr>\n",
       "    <tr>\n",
       "      <th>3</th>\n",
       "      <td>2015-12-25</td>\n",
       "      <td>1</td>\n",
       "      <td>BEVERAGES</td>\n",
       "      <td>NaN</td>\n",
       "      <td>NaN</td>\n",
       "      <td>0</td>\n",
       "      <td>0</td>\n",
       "    </tr>\n",
       "    <tr>\n",
       "      <th>4</th>\n",
       "      <td>2015-12-25</td>\n",
       "      <td>1</td>\n",
       "      <td>BOOKS</td>\n",
       "      <td>NaN</td>\n",
       "      <td>NaN</td>\n",
       "      <td>0</td>\n",
       "      <td>0</td>\n",
       "    </tr>\n",
       "    <tr>\n",
       "      <th>...</th>\n",
       "      <td>...</td>\n",
       "      <td>...</td>\n",
       "      <td>...</td>\n",
       "      <td>...</td>\n",
       "      <td>...</td>\n",
       "      <td>...</td>\n",
       "      <td>...</td>\n",
       "    </tr>\n",
       "    <tr>\n",
       "      <th>3000883</th>\n",
       "      <td>2017-08-15</td>\n",
       "      <td>9</td>\n",
       "      <td>POULTRY</td>\n",
       "      <td>3000883.0</td>\n",
       "      <td>2017-08-15</td>\n",
       "      <td>438</td>\n",
       "      <td>0</td>\n",
       "    </tr>\n",
       "    <tr>\n",
       "      <th>3000884</th>\n",
       "      <td>2017-08-15</td>\n",
       "      <td>9</td>\n",
       "      <td>PREPARED FOODS</td>\n",
       "      <td>3000884.0</td>\n",
       "      <td>2017-08-15</td>\n",
       "      <td>154</td>\n",
       "      <td>1</td>\n",
       "    </tr>\n",
       "    <tr>\n",
       "      <th>3000885</th>\n",
       "      <td>2017-08-15</td>\n",
       "      <td>9</td>\n",
       "      <td>PRODUCE</td>\n",
       "      <td>3000885.0</td>\n",
       "      <td>2017-08-15</td>\n",
       "      <td>2419</td>\n",
       "      <td>148</td>\n",
       "    </tr>\n",
       "    <tr>\n",
       "      <th>3000886</th>\n",
       "      <td>2017-08-15</td>\n",
       "      <td>9</td>\n",
       "      <td>SCHOOL AND OFFICE SUPPLIES</td>\n",
       "      <td>3000886.0</td>\n",
       "      <td>2017-08-15</td>\n",
       "      <td>121</td>\n",
       "      <td>8</td>\n",
       "    </tr>\n",
       "    <tr>\n",
       "      <th>3000887</th>\n",
       "      <td>2017-08-15</td>\n",
       "      <td>9</td>\n",
       "      <td>SEAFOOD</td>\n",
       "      <td>3000887.0</td>\n",
       "      <td>2017-08-15</td>\n",
       "      <td>16</td>\n",
       "      <td>0</td>\n",
       "    </tr>\n",
       "  </tbody>\n",
       "</table>\n",
       "<p>3008016 rows × 7 columns</p>\n",
       "</div>"
      ],
      "text/plain": [
       "         sales_date  store_nbr                      family         id  \\\n",
       "0        2015-12-25          1                  AUTOMOTIVE        NaN   \n",
       "1        2015-12-25          1                   BABY CARE        NaN   \n",
       "2        2015-12-25          1                      BEAUTY        NaN   \n",
       "3        2015-12-25          1                   BEVERAGES        NaN   \n",
       "4        2015-12-25          1                       BOOKS        NaN   \n",
       "...             ...        ...                         ...        ...   \n",
       "3000883  2017-08-15          9                     POULTRY  3000883.0   \n",
       "3000884  2017-08-15          9              PREPARED FOODS  3000884.0   \n",
       "3000885  2017-08-15          9                     PRODUCE  3000885.0   \n",
       "3000886  2017-08-15          9  SCHOOL AND OFFICE SUPPLIES  3000886.0   \n",
       "3000887  2017-08-15          9                     SEAFOOD  3000887.0   \n",
       "\n",
       "               date  sales  onpromotion  \n",
       "0               NaN      0            0  \n",
       "1               NaN      0            0  \n",
       "2               NaN      0            0  \n",
       "3               NaN      0            0  \n",
       "4               NaN      0            0  \n",
       "...             ...    ...          ...  \n",
       "3000883  2017-08-15    438            0  \n",
       "3000884  2017-08-15    154            1  \n",
       "3000885  2017-08-15   2419          148  \n",
       "3000886  2017-08-15    121            8  \n",
       "3000887  2017-08-15     16            0  \n",
       "\n",
       "[3008016 rows x 7 columns]"
      ]
     },
     "execution_count": 98,
     "metadata": {},
     "output_type": "execute_result"
    }
   ],
   "source": [
    "train_merged"
   ]
  },
  {
   "cell_type": "markdown",
   "id": "bdaacf59",
   "metadata": {},
   "source": [
    "***Dropping Unwanted Columns and Doing value convertions ***"
   ]
  },
  {
   "cell_type": "code",
   "execution_count": 101,
   "id": "98b63bea",
   "metadata": {
    "collapsed": true
   },
   "outputs": [
    {
     "data": {
      "text/html": [
       "<div>\n",
       "<style scoped>\n",
       "    .dataframe tbody tr th:only-of-type {\n",
       "        vertical-align: middle;\n",
       "    }\n",
       "\n",
       "    .dataframe tbody tr th {\n",
       "        vertical-align: top;\n",
       "    }\n",
       "\n",
       "    .dataframe thead th {\n",
       "        text-align: right;\n",
       "    }\n",
       "</style>\n",
       "<table border=\"1\" class=\"dataframe\">\n",
       "  <thead>\n",
       "    <tr style=\"text-align: right;\">\n",
       "      <th></th>\n",
       "      <th>sales_date</th>\n",
       "      <th>store_nbr</th>\n",
       "      <th>family</th>\n",
       "      <th>sales</th>\n",
       "      <th>onpromotion</th>\n",
       "    </tr>\n",
       "  </thead>\n",
       "  <tbody>\n",
       "    <tr>\n",
       "      <th>0</th>\n",
       "      <td>2015-12-25</td>\n",
       "      <td>1</td>\n",
       "      <td>AUTOMOTIVE</td>\n",
       "      <td>0</td>\n",
       "      <td>0</td>\n",
       "    </tr>\n",
       "    <tr>\n",
       "      <th>1</th>\n",
       "      <td>2015-12-25</td>\n",
       "      <td>1</td>\n",
       "      <td>BABY CARE</td>\n",
       "      <td>0</td>\n",
       "      <td>0</td>\n",
       "    </tr>\n",
       "    <tr>\n",
       "      <th>2</th>\n",
       "      <td>2015-12-25</td>\n",
       "      <td>1</td>\n",
       "      <td>BEAUTY</td>\n",
       "      <td>0</td>\n",
       "      <td>0</td>\n",
       "    </tr>\n",
       "    <tr>\n",
       "      <th>3</th>\n",
       "      <td>2015-12-25</td>\n",
       "      <td>1</td>\n",
       "      <td>BEVERAGES</td>\n",
       "      <td>0</td>\n",
       "      <td>0</td>\n",
       "    </tr>\n",
       "    <tr>\n",
       "      <th>4</th>\n",
       "      <td>2015-12-25</td>\n",
       "      <td>1</td>\n",
       "      <td>BOOKS</td>\n",
       "      <td>0</td>\n",
       "      <td>0</td>\n",
       "    </tr>\n",
       "    <tr>\n",
       "      <th>...</th>\n",
       "      <td>...</td>\n",
       "      <td>...</td>\n",
       "      <td>...</td>\n",
       "      <td>...</td>\n",
       "      <td>...</td>\n",
       "    </tr>\n",
       "    <tr>\n",
       "      <th>3000883</th>\n",
       "      <td>2017-08-15</td>\n",
       "      <td>9</td>\n",
       "      <td>POULTRY</td>\n",
       "      <td>438</td>\n",
       "      <td>0</td>\n",
       "    </tr>\n",
       "    <tr>\n",
       "      <th>3000884</th>\n",
       "      <td>2017-08-15</td>\n",
       "      <td>9</td>\n",
       "      <td>PREPARED FOODS</td>\n",
       "      <td>154</td>\n",
       "      <td>1</td>\n",
       "    </tr>\n",
       "    <tr>\n",
       "      <th>3000885</th>\n",
       "      <td>2017-08-15</td>\n",
       "      <td>9</td>\n",
       "      <td>PRODUCE</td>\n",
       "      <td>2419</td>\n",
       "      <td>148</td>\n",
       "    </tr>\n",
       "    <tr>\n",
       "      <th>3000886</th>\n",
       "      <td>2017-08-15</td>\n",
       "      <td>9</td>\n",
       "      <td>SCHOOL AND OFFICE SUPPLIES</td>\n",
       "      <td>121</td>\n",
       "      <td>8</td>\n",
       "    </tr>\n",
       "    <tr>\n",
       "      <th>3000887</th>\n",
       "      <td>2017-08-15</td>\n",
       "      <td>9</td>\n",
       "      <td>SEAFOOD</td>\n",
       "      <td>16</td>\n",
       "      <td>0</td>\n",
       "    </tr>\n",
       "  </tbody>\n",
       "</table>\n",
       "<p>3008016 rows × 5 columns</p>\n",
       "</div>"
      ],
      "text/plain": [
       "         sales_date  store_nbr                      family  sales  onpromotion\n",
       "0        2015-12-25          1                  AUTOMOTIVE      0            0\n",
       "1        2015-12-25          1                   BABY CARE      0            0\n",
       "2        2015-12-25          1                      BEAUTY      0            0\n",
       "3        2015-12-25          1                   BEVERAGES      0            0\n",
       "4        2015-12-25          1                       BOOKS      0            0\n",
       "...             ...        ...                         ...    ...          ...\n",
       "3000883  2017-08-15          9                     POULTRY    438            0\n",
       "3000884  2017-08-15          9              PREPARED FOODS    154            1\n",
       "3000885  2017-08-15          9                     PRODUCE   2419          148\n",
       "3000886  2017-08-15          9  SCHOOL AND OFFICE SUPPLIES    121            8\n",
       "3000887  2017-08-15          9                     SEAFOOD     16            0\n",
       "\n",
       "[3008016 rows x 5 columns]"
      ]
     },
     "execution_count": 101,
     "metadata": {},
     "output_type": "execute_result"
    }
   ],
   "source": [
    "train_comp = train_merged.drop(['id', 'date'], axis=1)\n",
    "train_comp"
   ]
  },
  {
   "cell_type": "markdown",
   "id": "82b08079",
   "metadata": {},
   "source": [
    "# Oil Data"
   ]
  },
  {
   "cell_type": "code",
   "execution_count": 141,
   "id": "ff377241",
   "metadata": {},
   "outputs": [],
   "source": [
    "\"\"\"Cleaning the Oil Data\"\"\"\n",
    "\n",
    "#Rename the 'date' and 'dcoilwtico' column\n",
    "Oil.rename(columns={'date': 'sales_date'}, inplace=True)\n",
    "Oil.rename(columns={'dcoilwtico': 'price'}, inplace=True)\n",
    "\n",
    "#Convert the dates into 'datetime' format\n",
    "Oil[\"sales_date\"] = pd.to_datetime(Oil[\"sales_date\"]).dt.date\n",
    "\n",
    "#Replacing the null values in the 'price' column of the Oil Dataframe\n",
    "Oil[\"price\"].fillna(method='bfill', inplace=True)\n",
    "\n",
    "#Convert 'price' column from float to int\n",
    "Oil['price'] = Oil['price'].astype(int)"
   ]
  },
  {
   "cell_type": "code",
   "execution_count": null,
   "id": "849a0022",
   "metadata": {},
   "outputs": [],
   "source": []
  },
  {
   "cell_type": "code",
   "execution_count": null,
   "id": "a16a6fa5",
   "metadata": {},
   "outputs": [],
   "source": []
  },
  {
   "cell_type": "code",
   "execution_count": null,
   "id": "c32d2497",
   "metadata": {},
   "outputs": [],
   "source": []
  },
  {
   "cell_type": "code",
   "execution_count": null,
   "id": "ba6f0746",
   "metadata": {},
   "outputs": [],
   "source": []
  },
  {
   "cell_type": "code",
   "execution_count": null,
   "id": "a7979fa7",
   "metadata": {},
   "outputs": [],
   "source": []
  },
  {
   "cell_type": "code",
   "execution_count": null,
   "id": "b5ecb096",
   "metadata": {},
   "outputs": [],
   "source": []
  },
  {
   "cell_type": "code",
   "execution_count": null,
   "id": "81ed35d3",
   "metadata": {},
   "outputs": [],
   "source": []
  },
  {
   "cell_type": "markdown",
   "id": "b6cec47b",
   "metadata": {},
   "source": [
    "# Answers"
   ]
  },
  {
   "cell_type": "markdown",
   "id": "e2721c52",
   "metadata": {},
   "source": [
    "***Question One:***\n",
    ">Does promotion result in more sales in each cluster of store?"
   ]
  },
  {
   "cell_type": "code",
   "execution_count": 16,
   "id": "9755f805",
   "metadata": {},
   "outputs": [],
   "source": [
    "# grouping store numbersby their total sales\n",
    "sales_grouping = comp_fc.groupby(by='store_nbr').sales.agg('sum')\n",
    "\n",
    "#generate top 10 stores/total sales\n",
    "sales = sales_grouping.nlargest(10).reset_index(name='top10')\n"
   ]
  },
  {
   "cell_type": "code",
   "execution_count": 17,
   "id": "d5b9cb97",
   "metadata": {},
   "outputs": [],
   "source": [
    "# grouping store numbersby their total promotions\n",
    "onpromo = comp_fc.groupby(by='store_nbr').onpromotion.agg('sum')\n",
    "#generate top 10 stores/total promotion\n",
    "promotion = onpromo.nlargest(10).reset_index(name='top10_promotion')"
   ]
  },
  {
   "cell_type": "code",
   "execution_count": 18,
   "id": "f539190a",
   "metadata": {
    "collapsed": true
   },
   "outputs": [
    {
     "data": {
      "image/png": "[encoded data removed]",
      "text/plain": [
       "<Figure size 432x288 with 1 Axes>"
      ]
     },
     "metadata": {
      "needs_background": "light"
     },
     "output_type": "display_data"
    }
   ],
   "source": [
    "#Plotting a Line Graph Demonstrating the Relationship between Sales and Promotion\n",
    "fig, ax = plt.subplots()\n",
    "\n",
    "sales['store_nbr'].plot(kind='line', color='red')\n",
    "promotion['store_nbr'].plot(kind='line', color='green')\n",
    "\n",
    "\n",
    "plt.rcParams['figure.figsize']=(7.50, 3.50)\n",
    "plt.rcParams['figure.autolayout'] = True\n",
    "plt.rcParams.update({'font.size': 20})\n",
    "plt.show()"
   ]
  },
  {
   "cell_type": "markdown",
   "id": "f71c958b",
   "metadata": {},
   "source": [
    "# MONOVARIATE ANALYSIS"
   ]
  },
  {
   "cell_type": "code",
   "execution_count": null,
   "id": "b37bbd7e",
   "metadata": {},
   "outputs": [],
   "source": [
    "# CLusters with the Most Sales\n",
    "pd.pivot_table(comp_fc, index='store_nbr', values='sales', aggfunc='sum').plot.bar()\n",
    "\n",
    "plt.title('Store Numbers with the Most Sales')\n",
    "plt.ylabel('Sales')\n",
    "plt.xlabel('Store Number')\n",
    "plt.rcParams['figure.figsize']=(30, 30);\n",
    "plt.rcParams.update({'font.size': 20})\n",
    "plt.show()"
   ]
  },
  {
   "cell_type": "markdown",
   "id": "64fdaed3",
   "metadata": {},
   "source": [
    "***Question Four:***\n",
    ">what are the top 10 most pertronized product families being offered by favorita?"
   ]
  },
  {
   "cell_type": "code",
   "execution_count": null,
   "id": "32399446",
   "metadata": {},
   "outputs": [],
   "source": [
    "#Group the products by the their total sales\n",
    "top_10_productfamilies = comp_fc.groupby(by='family').sales.agg('sum')\n",
    "\n",
    "#Group the products by the top 10 total sales\n",
    "prod_fam = top_10_productfamilies.nlargest(10).reset_index(name='top10_product_family')"
   ]
  },
  {
   "cell_type": "code",
   "execution_count": null,
   "id": "c39153d0",
   "metadata": {},
   "outputs": [],
   "source": []
  },
  {
   "cell_type": "code",
   "execution_count": null,
   "id": "df9d7537",
   "metadata": {},
   "outputs": [],
   "source": [
    "prod_fam.plot.bar(x='family', y='top10_product_family', rot=0, xlabel = 'Product Category', ylabel='Total Sales (sumt)', title = 'Ten Pertronized Products')\n",
    "\n",
    "#add a description here when cleaning the notebook\n",
    "def customize():\n",
    "    plt.rcParams['figure.figsize'] = (40,30)\n",
    "    plt.rcParams.update({'font.size': 30})\n",
    "    plt.xticks(rotation=90)\n",
    "    plt.show()\n",
    "    \n",
    "customize();"
   ]
  },
  {
   "cell_type": "code",
   "execution_count": null,
   "id": "e46f4ed7",
   "metadata": {},
   "outputs": [],
   "source": []
  },
  {
   "cell_type": "markdown",
   "id": "268e4eae",
   "metadata": {},
   "source": [
    "*** Compile the informtion with the stores information***"
   ]
  },
  {
   "cell_type": "code",
   "execution_count": null,
   "id": "53bbc0a8",
   "metadata": {},
   "outputs": [],
   "source": [
    "pro_sales_strcluster = pd.concat([comp_fc, stores], axis=0)\n",
    "pro_sales_strcluster"
   ]
  },
  {
   "cell_type": "code",
   "execution_count": null,
   "id": "65384e56",
   "metadata": {
    "scrolled": true
   },
   "outputs": [],
   "source": [
    "pro_sales_strcluster2 = pd.concat([comp_fc, stores], ignore_index=True)\n",
    "pro_sales_strcluster2.info()"
   ]
  },
  {
   "cell_type": "code",
   "execution_count": null,
   "id": "cc2a6d08",
   "metadata": {},
   "outputs": [],
   "source": [
    "graph_pas = pro_sales_strcluster2.drop(['family', 'city', 'state', 'cluster', 'sales_date'], axis=1)"
   ]
  },
  {
   "cell_type": "code",
   "execution_count": null,
   "id": "7f82441a",
   "metadata": {},
   "outputs": [],
   "source": [
    "#THE PLOT\n",
    "#pro_sales_strcluster2.plot.bar(x='')\n",
    "graph_pas.plot.bar(rot=15, title='rice');\n",
    "plot.show(block=True)"
   ]
  },
  {
   "cell_type": "code",
   "execution_count": null,
   "id": "61c16a1a",
   "metadata": {},
   "outputs": [],
   "source": [
    "store_by_type= stores.groupby(by='type').store_nbr.agg('count')"
   ]
  },
  {
   "cell_type": "code",
   "execution_count": null,
   "id": "2d7af0d7",
   "metadata": {
    "scrolled": true
   },
   "outputs": [],
   "source": [
    "store_by_type"
   ]
  },
  {
   "cell_type": "code",
   "execution_count": null,
   "id": "23a50e53",
   "metadata": {},
   "outputs": [],
   "source": [
    "# CLusters with the Most Sales\n",
    "pd.pivot_table(stores, index='type', values='store_nbr', aggfunc='count').plot.bar()\n",
    "\n",
    "plt.title('Total Number of Companies per Year of Establsihment')\n",
    "plt.ylabel('Total Number')\n",
    "plt.xlabel('Year of Establsihment')\n",
    "plt.rcParams['figure.figsize']=(30, 30);\n",
    "plt.rcParams.update({'font.size': 20})\n",
    "plt.show()"
   ]
  },
  {
   "cell_type": "code",
   "execution_count": null,
   "id": "91f52524",
   "metadata": {},
   "outputs": [],
   "source": [
    "loc_by_sales"
   ]
  },
  {
   "cell_type": "code",
   "execution_count": 19,
   "id": "1dbd9b3f",
   "metadata": {},
   "outputs": [],
   "source": [
    "Oil = pd.read_csv(r\"C:\\Users\\Ebenezer Edusei\\Edusei Python Studies\\ML Study\\post-bap-LP2-main\\oil.csv\")\n",
    "holidays = pd.read_csv(r\"C:\\Users\\Ebenezer Edusei\\Edusei Python Studies\\ML Study\\post-bap-LP2-main\\holidays_events.csv\")\n",
    "transactions = pd.read_csv(r\"C:\\Users\\Ebenezer Edusei\\Edusei Python Studies\\ML Study\\post-bap-LP2-main\\transactions.csv\")\n",
    "stores = pd.read_csv(r\"C:\\Users\\Ebenezer Edusei\\Edusei Python Studies\\ML Study\\post-bap-LP2-main\\stores.csv\")\n"
   ]
  },
  {
   "cell_type": "markdown",
   "id": "c5d2a793",
   "metadata": {},
   "source": [
    "# Oil Cleaning"
   ]
  },
  {
   "cell_type": "code",
   "execution_count": 41,
   "id": "0a1b4bd0",
   "metadata": {},
   "outputs": [],
   "source": [
    "#Cleaning the Oil Data\n",
    "#Oil converting the 'dcoilwtico' values to integer\n",
    "#Oil['dcoilwtico'] = Oil['dcoilwtico'].replace(np.nan, 0)\n",
    "#Oil['dcoilwtico'] = Oil['dcoilwtico'].astype(int)                                                \n",
    "\n",
    "#rename the date column\n",
    "Oil.rename(columns={'date': 'sales_date'}, inplace=True)\n",
    "\n",
    "#combining with the origional dataframe\n",
    "ncomp_fc = pd.concat([Oil, comp_fc], ignore_index=False)\n",
    "\n",
    "#ncomp_fc"
   ]
  },
  {
   "cell_type": "markdown",
   "id": "52c01f2c",
   "metadata": {},
   "source": [
    "# insert the missing dates and oil prices to ensure precision in your analysis"
   ]
  },
  {
   "cell_type": "code",
   "execution_count": 40,
   "id": "717e6ffe",
   "metadata": {
    "collapsed": true
   },
   "outputs": [
    {
     "ename": "NameError",
     "evalue": "name 'ncomp_fc' is not defined",
     "output_type": "error",
     "traceback": [
      "\u001b[1;31m---------------------------------------------------------------------------\u001b[0m",
      "\u001b[1;31mNameError\u001b[0m                                 Traceback (most recent call last)",
      "Input \u001b[1;32mIn [40]\u001b[0m, in \u001b[0;36m<cell line: 1>\u001b[1;34m()\u001b[0m\n\u001b[1;32m----> 1\u001b[0m \u001b[43mncomp_fc\u001b[49m\n",
      "\u001b[1;31mNameError\u001b[0m: name 'ncomp_fc' is not defined"
     ]
    }
   ],
   "source": [
    "ncomp_fc"
   ]
  },
  {
   "cell_type": "markdown",
   "id": "bb12531a",
   "metadata": {},
   "source": [
    "***Question Two:***\n",
    ">Does Oil price negatively affect the sales in each cluster of store?"
   ]
  },
  {
   "cell_type": "code",
   "execution_count": 43,
   "id": "5ff96f47",
   "metadata": {},
   "outputs": [],
   "source": [
    "ncomp_fc['store_nbr'] = ncomp_fc['store_nbr'].replace(np.nan, 0)\n",
    "#complete_df['transactions'] = complete_df['transactions'].replace(np.nan, 0)\n",
    "#complete_df['cluster'] = complete_df['cluster'].replace(np.nan, 0)\n",
    "ncomp_fc['dcoilwtico'] = ncomp_fc['dcoilwtico'].replace(np.nan, 0)\n",
    "ncomp_fc['sales'] = ncomp_fc['sales'].replace(np.nan, 0)\n",
    "ncomp_fc['onpromotion'] = ncomp_fc['onpromotion'].replace(np.nan, 0)"
   ]
  },
  {
   "cell_type": "code",
   "execution_count": 44,
   "id": "da6c7e12",
   "metadata": {},
   "outputs": [],
   "source": [
    "# Convert sales, oil, promotion, store number, transactions\n",
    "#complete_df.info()\n",
    "\n",
    "ncomp_fc['store_nbr'] = ncomp_fc['store_nbr'].astype(int).astype(str)\n",
    "#complete_df['transactions'] = complete_df['transactions'].astype(int)\n",
    "#complete_df['cluster'] = complete_df['cluster'].astype(int)\n",
    "ncomp_fc['dcoilwtico'] = ncomp_fc['dcoilwtico'].astype(int)\n",
    "ncomp_fc['sales'] = ncomp_fc['sales'].astype(int)\n",
    "ncomp_fc['onpromotion'] = ncomp_fc['onpromotion'].astype(int)"
   ]
  },
  {
   "cell_type": "code",
   "execution_count": 45,
   "id": "ff6ede96",
   "metadata": {},
   "outputs": [],
   "source": [
    "sales_by_oil = ncomp_fc.groupby(by='sales').dcoilwtico.agg('count')\n",
    "#top_10_productfamilies = comp_fc.groupby(by='family').sales.agg('sum')\n",
    "\n",
    "#Top 20 sales to oil\n",
    "so = sales_by_oil.nlargest(20).reset_index(name='oil_price')"
   ]
  },
  {
   "cell_type": "code",
   "execution_count": 46,
   "id": "a22150ca",
   "metadata": {},
   "outputs": [
    {
     "data": {
      "image/png": "[encoded data removed]",
      "text/plain": [
       "<Figure size 540x252 with 1 Axes>"
      ]
     },
     "metadata": {
      "needs_background": "light"
     },
     "output_type": "display_data"
    }
   ],
   "source": [
    "so.plot.line(x='sales', y='oil_price', rot=0, xlabel = 'Sales', ylabel='Oil Price', title = 'Influence of Oil Price on Sales')\n",
    "\n",
    "def customize():\n",
    "    plt.rcParams['figure.figsize'] = (20,15)\n",
    "    plt.rcParams.update({'font.size': 20})\n",
    "    plt.xticks(rotation=90)\n",
    "    plt.show()\n",
    "    return\n",
    "customize();"
   ]
  },
  {
   "cell_type": "markdown",
   "id": "6fce1330",
   "metadata": {},
   "source": [
    "***Question Three:***\n",
    ">Does Holidays result in more sales in each cluster of store?"
   ]
  },
  {
   "cell_type": "code",
   "execution_count": null,
   "id": "76bd38b7",
   "metadata": {},
   "outputs": [],
   "source": [
    "############## Holiday Cleaning\n",
    "#Drop unnecessary columns: description, locale, type\n",
    "holiday_1 = holidays.drop(['locale', 'type', 'description'], axis=1)\n",
    "#Rename the date column\n",
    "holiday_1.rename(columns={'date': 'sales_date'}, inplace=True)\n",
    "#rename the locale_name column to city\n",
    "holiday_1.rename(columns={'locale_name': 'city'}, inplace=True)\n",
    "#merge with origional df\n",
    "#new_dataframe = pd.concat([ncomp_fc, holiday_1], ignore_index=False)\n",
    "\n"
   ]
  },
  {
   "cell_type": "code",
   "execution_count": null,
   "id": "5e0f0987",
   "metadata": {},
   "outputs": [],
   "source": [
    "holiday_1.info()"
   ]
  },
  {
   "cell_type": "code",
   "execution_count": null,
   "id": "8b878f3b",
   "metadata": {},
   "outputs": [],
   "source": [
    " stores.info()"
   ]
  },
  {
   "cell_type": "code",
   "execution_count": null,
   "id": "455275f4",
   "metadata": {},
   "outputs": [],
   "source": [
    "hol = pd.merge(holiday_1, comp_fc, on='sales_date' )"
   ]
  },
  {
   "cell_type": "code",
   "execution_count": null,
   "id": "80fd2fe5",
   "metadata": {},
   "outputs": [],
   "source": [
    "hol_stor"
   ]
  },
  {
   "cell_type": "code",
   "execution_count": null,
   "id": "8549ffc8",
   "metadata": {},
   "outputs": [],
   "source": [
    "comp_fc.info()"
   ]
  },
  {
   "cell_type": "code",
   "execution_count": null,
   "id": "4c60addd",
   "metadata": {},
   "outputs": [],
   "source": [
    "df = (pd.concat([holiday_1, comp_fc], ignore_index=False))\n"
   ]
  },
  {
   "cell_type": "code",
   "execution_count": null,
   "id": "ff96e17b",
   "metadata": {},
   "outputs": [],
   "source": [
    "df\n",
    "#.groupby(by='transferred').sales.agg('sum')\n",
    "#['transferred'].que()"
   ]
  },
  {
   "cell_type": "code",
   "execution_count": null,
   "id": "f9340624",
   "metadata": {},
   "outputs": [],
   "source": [
    "################### Store CLeaning\n",
    "#Drop unnecessary columns: state\n",
    "stores_1 = stores.drop(['state'], axis=1)\n",
    "#convert store_nbr column into float\n",
    "stores_1['store_nbr'] = stores_1['store_nbr'].astype(float)\n",
    "#merge with origional df\n",
    "#ndfw_stores = pd.concat([stores_1, new_dataframe], ignore_index=False)"
   ]
  },
  {
   "cell_type": "code",
   "execution_count": null,
   "id": "a13466fd",
   "metadata": {
    "scrolled": true
   },
   "outputs": [],
   "source": [
    "stores_1"
   ]
  },
  {
   "cell_type": "code",
   "execution_count": null,
   "id": "133f98ff",
   "metadata": {},
   "outputs": [],
   "source": [
    "data_frame = pd.concat([stores_1, df], ignore_index=False)"
   ]
  },
  {
   "cell_type": "code",
   "execution_count": null,
   "id": "c81161f6",
   "metadata": {},
   "outputs": [],
   "source": [
    "data_frame"
   ]
  },
  {
   "cell_type": "markdown",
   "id": "ac004490",
   "metadata": {},
   "source": [
    "***Answer:***\n",
    ">The data is insuffecient to extablsih a relationship between holidays and sales"
   ]
  },
  {
   "cell_type": "markdown",
   "id": "b9fa871c",
   "metadata": {},
   "source": [
    "***Question Five:***\n",
    ">Does oil price result in low transaction rates in each of the cluster of stores?"
   ]
  },
  {
   "cell_type": "code",
   "execution_count": null,
   "id": "3ad5a27d",
   "metadata": {},
   "outputs": [],
   "source": [
    "transactions"
   ]
  },
  {
   "cell_type": "code",
   "execution_count": null,
   "id": "e6a0d2b6",
   "metadata": {},
   "outputs": [],
   "source": [
    "ncomp_fc"
   ]
  },
  {
   "cell_type": "code",
   "execution_count": null,
   "id": "c6a6fbc3",
   "metadata": {},
   "outputs": [],
   "source": [
    "#############Transactions cleaning\n",
    "\n",
    "#change dateto sales date\n",
    "transactions.rename(columns={'date': 'sales_date'}, inplace=True)\n",
    "#change store_nbr to float from int\n",
    "transactions['store_nbr'] = transactions['store_nbr'].astype(float)\n",
    "#merge with origional df\n",
    "complete_df = pd.concat([transactions, ndfw_stores], ignore_index=False)"
   ]
  },
  {
   "cell_type": "code",
   "execution_count": null,
   "id": "c3b10ce9",
   "metadata": {
    "scrolled": true
   },
   "outputs": [],
   "source": [
    "complete_df.info()"
   ]
  },
  {
   "cell_type": "code",
   "execution_count": null,
   "id": "92db2bc9",
   "metadata": {},
   "outputs": [],
   "source": [
    "complete_df['store_nbr'] = complete_df['store_nbr'].replace(np.nan, 0)\n",
    "complete_df['transactions'] = complete_df['transactions'].replace(np.nan, 0)\n",
    "complete_df['cluster'] = complete_df['cluster'].replace(np.nan, 0)\n",
    "complete_df['dcoilwtico'] = complete_df['dcoilwtico'].replace(np.nan, 0)\n",
    "complete_df['sales'] = complete_df['sales'].replace(np.nan, 0)\n",
    "complete_df['onpromotion'] = complete_df['onpromotion'].replace(np.nan, 0)"
   ]
  },
  {
   "cell_type": "code",
   "execution_count": null,
   "id": "1870b198",
   "metadata": {},
   "outputs": [],
   "source": [
    "complete_df"
   ]
  },
  {
   "cell_type": "code",
   "execution_count": null,
   "id": "ed0fdcf2",
   "metadata": {},
   "outputs": [],
   "source": [
    "# Convert sales, oil, promotion, store number, transactions\n",
    "#complete_df.info()\n",
    "\n",
    "complete_df['store_nbr'] = complete_df['store_nbr'].astype(int).astype(str)\n",
    "complete_df['transactions'] = complete_df['transactions'].astype(int)\n",
    "complete_df['cluster'] = complete_df['cluster'].astype(int)\n",
    "complete_df['dcoilwtico'] = complete_df['dcoilwtico'].astype(int)\n",
    "complete_df['sales'] = complete_df['sales'].astype(int)\n",
    "complete_df['onpromotion'] = complete_df['onpromotion'].astype(int)\n"
   ]
  },
  {
   "cell_type": "code",
   "execution_count": null,
   "id": "f8ad03da",
   "metadata": {},
   "outputs": [],
   "source": [
    "complete_df"
   ]
  },
  {
   "cell_type": "code",
   "execution_count": null,
   "id": "20d7a17d",
   "metadata": {},
   "outputs": [],
   "source": [
    "5.  Does oil price result in low transaction rates in each of the cluster of stores?"
   ]
  },
  {
   "cell_type": "code",
   "execution_count": null,
   "id": "84360e9d",
   "metadata": {},
   "outputs": [],
   "source": [
    "6.  Collectively, does holidays and promotions result in high transaction rates in each cluster of store?"
   ]
  },
  {
   "cell_type": "code",
   "execution_count": null,
   "id": "56531fc1",
   "metadata": {},
   "outputs": [],
   "source": [
    "7.  What are the top 10 time periods with the most transactions and sales?"
   ]
  },
  {
   "cell_type": "code",
   "execution_count": null,
   "id": "f6154212",
   "metadata": {},
   "outputs": [],
   "source": [
    "8.  Does location result in certain cluster of stores putselling others?"
   ]
  }
 ],
 "metadata": {
  "kernelspec": {
   "display_name": "Python 3 (ipykernel)",
   "language": "python",
   "name": "python3"
  },
  "language_info": {
   "codemirror_mode": {
    "name": "ipython",
    "version": 3
   },
   "file_extension": ".py",
   "mimetype": "text/x-python",
   "name": "python",
   "nbconvert_exporter": "python",
   "pygments_lexer": "ipython3",
   "version": "3.9.12"
  }
 },
 "nbformat": 4,
 "nbformat_minor": 5
}
